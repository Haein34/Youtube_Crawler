{
 "cells": [
  {
   "cell_type": "code",
   "execution_count": 1,
   "metadata": {},
   "outputs": [
    {
     "name": "stdout",
     "output_type": "stream",
     "text": [
      "Requirement already satisfied: youtube-dl==2020.12.2 in f:\\anaconda\\lib\\site-packages (2020.12.2)\n",
      "Note: you may need to restart the kernel to use updated packages.\n"
     ]
    },
    {
     "name": "stderr",
     "output_type": "stream",
     "text": [
      "WARNING: You are using pip version 20.3.3; however, version 22.0.3 is available.\n",
      "You should consider upgrading via the 'F:\\anaconda\\python.exe -m pip install --upgrade pip' command.\n"
     ]
    }
   ],
   "source": [
    "pip install youtube-dl==2020.12.2"
   ]
  },
  {
   "cell_type": "code",
   "execution_count": 2,
   "metadata": {},
   "outputs": [
    {
     "name": "stdout",
     "output_type": "stream",
     "text": [
      "Requirement already satisfied: pafy in f:\\anaconda\\lib\\site-packages (0.5.5)\n",
      "Note: you may need to restart the kernel to use updated packages.\n"
     ]
    },
    {
     "name": "stderr",
     "output_type": "stream",
     "text": [
      "WARNING: You are using pip version 20.3.3; however, version 22.0.3 is available.\n",
      "You should consider upgrading via the 'F:\\anaconda\\python.exe -m pip install --upgrade pip' command.\n"
     ]
    }
   ],
   "source": [
    "pip install pafy"
   ]
  },
  {
   "cell_type": "code",
   "execution_count": 3,
   "metadata": {},
   "outputs": [
    {
     "name": "stdout",
     "output_type": "stream",
     "text": [
      "Requirement already satisfied: pytchat in f:\\anaconda\\lib\\site-packages (0.5.5)\n",
      "Requirement already satisfied: httpx[http2] in f:\\anaconda\\lib\\site-packages (from pytchat) (0.22.0)\n",
      "Requirement already satisfied: sniffio in f:\\anaconda\\lib\\site-packages (from httpx[http2]->pytchat) (1.2.0)\n",
      "Requirement already satisfied: certifi in f:\\anaconda\\lib\\site-packages (from httpx[http2]->pytchat) (2019.11.28)\n",
      "Requirement already satisfied: rfc3986[idna2008]<2,>=1.3 in f:\\anaconda\\lib\\site-packages (from httpx[http2]->pytchat) (1.5.0)\n",
      "Requirement already satisfied: charset-normalizer in f:\\anaconda\\lib\\site-packages (from httpx[http2]->pytchat) (2.0.12)\n",
      "Requirement already satisfied: httpcore<0.15.0,>=0.14.5 in f:\\anaconda\\lib\\site-packages (from httpx[http2]->pytchat) (0.14.7)\n",
      "Requirement already satisfied: h2<5,>=3 in f:\\anaconda\\lib\\site-packages (from httpx[http2]->pytchat) (4.1.0)\n",
      "Requirement already satisfied: hpack<5,>=4.0 in f:\\anaconda\\lib\\site-packages (from h2<5,>=3->httpx[http2]->pytchat) (4.0.0)\n",
      "Requirement already satisfied: hyperframe<7,>=6.0 in f:\\anaconda\\lib\\site-packages (from h2<5,>=3->httpx[http2]->pytchat) (6.0.1)\n",
      "Requirement already satisfied: h11<0.13,>=0.11 in f:\\anaconda\\lib\\site-packages (from httpcore<0.15.0,>=0.14.5->httpx[http2]->pytchat) (0.12.0)\n",
      "Requirement already satisfied: anyio==3.* in f:\\anaconda\\lib\\site-packages (from httpcore<0.15.0,>=0.14.5->httpx[http2]->pytchat) (3.5.0)\n",
      "Requirement already satisfied: typing-extensions in f:\\anaconda\\lib\\site-packages (from anyio==3.*->httpcore<0.15.0,>=0.14.5->httpx[http2]->pytchat) (3.10.0.2)\n",
      "Requirement already satisfied: idna>=2.8 in f:\\anaconda\\lib\\site-packages (from anyio==3.*->httpcore<0.15.0,>=0.14.5->httpx[http2]->pytchat) (2.10)\n",
      "Note: you may need to restart the kernel to use updated packages.\n"
     ]
    },
    {
     "name": "stderr",
     "output_type": "stream",
     "text": [
      "WARNING: You are using pip version 20.3.3; however, version 22.0.3 is available.\n",
      "You should consider upgrading via the 'F:\\anaconda\\python.exe -m pip install --upgrade pip' command.\n"
     ]
    }
   ],
   "source": [
    "pip install pytchat"
   ]
  },
  {
   "cell_type": "code",
   "execution_count": 4,
   "metadata": {},
   "outputs": [
    {
     "name": "stdout",
     "output_type": "stream",
     "text": [
      "Requirement already satisfied: google-api-python-client in f:\\anaconda\\lib\\site-packages (2.39.0)\n",
      "Requirement already satisfied: google-auth<3.0.0dev,>=1.16.0 in f:\\anaconda\\lib\\site-packages (from google-api-python-client) (1.28.0)\n",
      "Requirement already satisfied: google-api-core<3.0.0dev,>=1.21.0 in f:\\anaconda\\lib\\site-packages (from google-api-python-client) (2.5.0)\n",
      "Requirement already satisfied: httplib2<1dev,>=0.15.0 in f:\\anaconda\\lib\\site-packages (from google-api-python-client) (0.20.4)\n",
      "Requirement already satisfied: uritemplate<5,>=3.0.1 in f:\\anaconda\\lib\\site-packages (from google-api-python-client) (4.1.1)\n",
      "Requirement already satisfied: google-auth-httplib2>=0.1.0 in f:\\anaconda\\lib\\site-packages (from google-api-python-client) (0.1.0)\n",
      "Requirement already satisfied: requests<3.0.0dev,>=2.18.0 in f:\\anaconda\\lib\\site-packages (from google-api-core<3.0.0dev,>=1.21.0->google-api-python-client) (2.25.1)\n",
      "Requirement already satisfied: googleapis-common-protos<2.0dev,>=1.52.0 in f:\\anaconda\\lib\\site-packages (from google-api-core<3.0.0dev,>=1.21.0->google-api-python-client) (1.55.0)\n",
      "Requirement already satisfied: protobuf>=3.12.0 in f:\\anaconda\\lib\\site-packages (from google-api-core<3.0.0dev,>=1.21.0->google-api-python-client) (3.13.0)\n",
      "Requirement already satisfied: six>=1.9.0 in f:\\anaconda\\lib\\site-packages (from google-auth<3.0.0dev,>=1.16.0->google-api-python-client) (1.15.0)\n",
      "Requirement already satisfied: setuptools>=40.3.0 in c:\\users\\haein\\appdata\\roaming\\python\\python37\\site-packages (from google-auth<3.0.0dev,>=1.16.0->google-api-python-client) (51.1.0)\n",
      "Requirement already satisfied: cachetools<5.0,>=2.0.0 in f:\\anaconda\\lib\\site-packages (from google-auth<3.0.0dev,>=1.16.0->google-api-python-client) (4.2.1)\n",
      "Requirement already satisfied: rsa<5,>=3.1.4 in f:\\anaconda\\lib\\site-packages (from google-auth<3.0.0dev,>=1.16.0->google-api-python-client) (4.7.2)\n",
      "Requirement already satisfied: pyasn1-modules>=0.2.1 in f:\\anaconda\\lib\\site-packages (from google-auth<3.0.0dev,>=1.16.0->google-api-python-client) (0.2.8)\n",
      "Requirement already satisfied: pyparsing!=3.0.0,!=3.0.1,!=3.0.2,!=3.0.3,<4,>=2.4.2 in f:\\anaconda\\lib\\site-packages (from httplib2<1dev,>=0.15.0->google-api-python-client) (2.4.6)\n",
      "Requirement already satisfied: pyasn1<0.5.0,>=0.4.6 in f:\\anaconda\\lib\\site-packages (from pyasn1-modules>=0.2.1->google-auth<3.0.0dev,>=1.16.0->google-api-python-client) (0.4.8)\n",
      "Requirement already satisfied: urllib3<1.27,>=1.21.1 in f:\\anaconda\\lib\\site-packages (from requests<3.0.0dev,>=2.18.0->google-api-core<3.0.0dev,>=1.21.0->google-api-python-client) (1.24.3)\n",
      "Requirement already satisfied: idna<3,>=2.5 in f:\\anaconda\\lib\\site-packages (from requests<3.0.0dev,>=2.18.0->google-api-core<3.0.0dev,>=1.21.0->google-api-python-client) (2.10)\n",
      "Requirement already satisfied: chardet<5,>=3.0.2 in f:\\anaconda\\lib\\site-packages (from requests<3.0.0dev,>=2.18.0->google-api-core<3.0.0dev,>=1.21.0->google-api-python-client) (3.0.4)\n",
      "Requirement already satisfied: certifi>=2017.4.17 in f:\\anaconda\\lib\\site-packages (from requests<3.0.0dev,>=2.18.0->google-api-core<3.0.0dev,>=1.21.0->google-api-python-client) (2019.11.28)\n",
      "Note: you may need to restart the kernel to use updated packages.\n"
     ]
    },
    {
     "name": "stderr",
     "output_type": "stream",
     "text": [
      "WARNING: You are using pip version 20.3.3; however, version 22.0.3 is available.\n",
      "You should consider upgrading via the 'F:\\anaconda\\python.exe -m pip install --upgrade pip' command.\n"
     ]
    }
   ],
   "source": [
    "pip install --upgrade google-api-python-client"
   ]
  },
  {
   "cell_type": "code",
   "execution_count": 5,
   "metadata": {},
   "outputs": [
    {
     "name": "stdout",
     "output_type": "stream",
     "text": [
      "Requirement already satisfied: google-auth-oauthlib in f:\\anaconda\\lib\\site-packages (0.5.0)\n",
      "Requirement already satisfied: google-auth-httplib2 in f:\\anaconda\\lib\\site-packages (0.1.0)\n",
      "Requirement already satisfied: httplib2>=0.15.0 in f:\\anaconda\\lib\\site-packages (from google-auth-httplib2) (0.20.4)\n",
      "Requirement already satisfied: six in f:\\anaconda\\lib\\site-packages (from google-auth-httplib2) (1.15.0)\n",
      "Requirement already satisfied: google-auth in f:\\anaconda\\lib\\site-packages (from google-auth-httplib2) (1.28.0)\n",
      "Requirement already satisfied: pyparsing!=3.0.0,!=3.0.1,!=3.0.2,!=3.0.3,<4,>=2.4.2 in f:\\anaconda\\lib\\site-packages (from httplib2>=0.15.0->google-auth-httplib2) (2.4.6)\n",
      "Requirement already satisfied: requests-oauthlib>=0.7.0 in f:\\anaconda\\lib\\site-packages (from google-auth-oauthlib) (1.3.0)\n",
      "Requirement already satisfied: setuptools>=40.3.0 in c:\\users\\haein\\appdata\\roaming\\python\\python37\\site-packages (from google-auth->google-auth-httplib2) (51.1.0)\n",
      "Requirement already satisfied: pyasn1-modules>=0.2.1 in f:\\anaconda\\lib\\site-packages (from google-auth->google-auth-httplib2) (0.2.8)\n",
      "Requirement already satisfied: rsa<5,>=3.1.4 in f:\\anaconda\\lib\\site-packages (from google-auth->google-auth-httplib2) (4.7.2)\n",
      "Requirement already satisfied: cachetools<5.0,>=2.0.0 in f:\\anaconda\\lib\\site-packages (from google-auth->google-auth-httplib2) (4.2.1)\n",
      "Requirement already satisfied: pyasn1<0.5.0,>=0.4.6 in f:\\anaconda\\lib\\site-packages (from pyasn1-modules>=0.2.1->google-auth->google-auth-httplib2) (0.4.8)\n",
      "Requirement already satisfied: requests>=2.0.0 in f:\\anaconda\\lib\\site-packages (from requests-oauthlib>=0.7.0->google-auth-oauthlib) (2.25.1)\n",
      "Requirement already satisfied: oauthlib>=3.0.0 in f:\\anaconda\\lib\\site-packages (from requests-oauthlib>=0.7.0->google-auth-oauthlib) (3.1.0)\n",
      "Requirement already satisfied: certifi>=2017.4.17 in f:\\anaconda\\lib\\site-packages (from requests>=2.0.0->requests-oauthlib>=0.7.0->google-auth-oauthlib) (2019.11.28)\n",
      "Requirement already satisfied: chardet<5,>=3.0.2 in f:\\anaconda\\lib\\site-packages (from requests>=2.0.0->requests-oauthlib>=0.7.0->google-auth-oauthlib) (3.0.4)\n",
      "Requirement already satisfied: urllib3<1.27,>=1.21.1 in f:\\anaconda\\lib\\site-packages (from requests>=2.0.0->requests-oauthlib>=0.7.0->google-auth-oauthlib) (1.24.3)\n",
      "Requirement already satisfied: idna<3,>=2.5 in f:\\anaconda\\lib\\site-packages (from requests>=2.0.0->requests-oauthlib>=0.7.0->google-auth-oauthlib) (2.10)\n",
      "Note: you may need to restart the kernel to use updated packages.\n"
     ]
    },
    {
     "name": "stderr",
     "output_type": "stream",
     "text": [
      "WARNING: You are using pip version 20.3.3; however, version 22.0.3 is available.\n",
      "You should consider upgrading via the 'F:\\anaconda\\python.exe -m pip install --upgrade pip' command.\n"
     ]
    }
   ],
   "source": [
    "pip install --upgrade google-auth-oauthlib google-auth-httplib2"
   ]
  },
  {
   "cell_type": "code",
   "execution_count": 6,
   "metadata": {},
   "outputs": [],
   "source": [
    "import pickle\n",
    "import csv\n",
    "import os\n",
    "import pandas as pd\n",
    "\n",
    "import google.oauth2.credentials\n",
    "\n",
    "from googleapiclient.discovery import build\n",
    "from googleapiclient.errors import HttpError\n",
    "from google_auth_oauthlib.flow import InstalledAppFlow\n",
    "from google.auth.transport.requests import Request\n",
    "\n",
    "import google_auth_oauthlib.flow\n",
    "import googleapiclient.discovery"
   ]
  },
  {
   "cell_type": "code",
   "execution_count": 7,
   "metadata": {},
   "outputs": [
    {
     "name": "stdout",
     "output_type": "stream",
     "text": [
      "Please visit this URL to authorize this application: https://accounts.google.com/o/oauth2/auth?response_type=code&client_id=150264450603-v61fl3bp152s5i44q2l3km077nm5j7cv.apps.googleusercontent.com&redirect_uri=urn%3Aietf%3Awg%3Aoauth%3A2.0%3Aoob&scope=https%3A%2F%2Fwww.googleapis.com%2Fauth%2Fyoutube.readonly+https%3A%2F%2Fwww.googleapis.com%2Fauth%2Fyoutube.force-ssl&state=98JVPP8jUkJ13L9Fa7Rl8b3EEVtFQ6&prompt=consent&access_type=offline\n",
      "Enter the authorization code: 4/1AX4XfWjpl15A0Y9MlpCsJ_kpxHpuAZBQGkkhlMtuROdHH8cZtKA1n4plHqQ\n"
     ]
    }
   ],
   "source": [
    "API_SERVICE_NAME = 'youtube'\n",
    "API_VERSION = 'v3'\n",
    "CLIENT_SECRET_FILE = 'F:/anaconda/JupyterNotebookDoc/client_secret_150264450603-v61fl3bp152s5i44q2l3km077nm5j7cv.apps.googleusercontent.com.json'\n",
    "\n",
    "SCOPES = ['https://www.googleapis.com/auth/youtube.readonly', 'https://www.googleapis.com/auth/youtube.force-ssl']\n",
    "\n",
    "# API 클라이언트 생성 및 인증하여 Credential 객체 얻기\n",
    "flow = google_auth_oauthlib.flow.InstalledAppFlow.from_client_secrets_file(CLIENT_SECRET_FILE, SCOPES)\n",
    "credentials = flow.run_console()\n",
    "youtube = googleapiclient.discovery.build(API_SERVICE_NAME, API_VERSION, credentials=credentials)"
   ]
  },
  {
   "cell_type": "code",
   "execution_count": 27,
   "metadata": {},
   "outputs": [],
   "source": [
    "# commentThreads.list() API를 호출하여 특정 비디오의 댓글 스레드(thread)를 불러오기\n",
    "def get_comment_threads(youtube, video_id):\n",
    "    results = youtube.commentThreads().list(\n",
    "        part='snippet',\n",
    "        videoId=video_id,\n",
    "        textFormat='plainText',\n",
    "        maxResults=100, # 최근 100개까지의 댓글 확인\n",
    "    ).execute()\n",
    "    \n",
    "    return results"
   ]
  },
  {
   "cell_type": "code",
   "execution_count": 28,
   "metadata": {},
   "outputs": [],
   "source": [
    "def classification(results):\n",
    "    #next(item for item in result if item[\"content\"])\n",
    "    comment_list = []\n",
    "    for item in results['items']:\n",
    "        comment_id = item['id']\n",
    "        comment = item['snippet']['topLevelComment']\n",
    "        author = comment['snippet']['authorDisplayName']\n",
    "        publishedAt = comment['snippet']['publishedAt']\n",
    "        text = comment['snippet']['textDisplay']\n",
    "        comment_list.append((comment_id, author, publishedAt, text))\n",
    "\n",
    "    \n",
    "    return comment_list"
   ]
  },
  {
   "cell_type": "code",
   "execution_count": 29,
   "metadata": {},
   "outputs": [],
   "source": [
    "def saveData(comment_list):\n",
    "    \n",
    "    everything = []\n",
    "\n",
    "    for i in range(len(comment_list)):\n",
    "        comment_id = comment_list[i][0]\n",
    "        author = comment_list[i][1]\n",
    "        publishedAt = comment_list[i][2]\n",
    "        text = comment_list[i][3]\n",
    "        \n",
    "        everything.append((comment_id,author,publishedAt,text))\n",
    "\n",
    "    return everything"
   ]
  },
  {
   "cell_type": "code",
   "execution_count": 30,
   "metadata": {},
   "outputs": [],
   "source": [
    "def main():\n",
    "    top_len = 0\n",
    "    video_id_li = ['be0IU_aeD6Q'] #Youtube video ID\n",
    "    try_number = len(video_id_li)\n",
    "    sleep_seconds = 150 \n",
    "\n",
    "    for i in range(try_number):\n",
    "        result = get_comment_threads(youtube,video_id_li[i])\n",
    "        comment_list = classification(result)\n",
    "        savedata = saveData(comment_list)\n",
    "        print(len(savedata))\n",
    "        \n",
    "    df = pd.DataFrame(savedata, columns=['comment_id', 'author', 'date', 'text'])\n",
    "        \n",
    "#     with open(\"youtube.csv\", 'wt', encoding='utf-8-sig', newline='') as file:\n",
    "#         csvWriter = csv.writer(file)\n",
    "#         csvWriter.writerow([\"comment_id\", \"author\", \"date\",\"text\"])\n",
    "\n",
    "#         for i in savedata:\n",
    "#             print(i)\n",
    "#             csvWriter.writerow(i) \n",
    "            \n",
    "    if not os.path.exists('youtube_220309.csv'):\n",
    "        df.to_csv('youtube_220309.csv', index=False, mode='w', encoding='utf-8-sig')\n",
    "    else:\n",
    "        df.to_csv('youtube_220309.csv', index=False, mode='a', encoding='utf-8-sig', header=False)"
   ]
  },
  {
   "cell_type": "code",
   "execution_count": 31,
   "metadata": {},
   "outputs": [
    {
     "name": "stdout",
     "output_type": "stream",
     "text": [
      "98\n",
      "100\n"
     ]
    }
   ],
   "source": [
    "main()"
   ]
  },
  {
   "cell_type": "code",
   "execution_count": null,
   "metadata": {},
   "outputs": [],
   "source": []
  },
  {
   "cell_type": "code",
   "execution_count": null,
   "metadata": {},
   "outputs": [],
   "source": []
  }
 ],
 "metadata": {
  "kernelspec": {
   "display_name": "Python 3",
   "language": "python",
   "name": "python3"
  },
  "language_info": {
   "codemirror_mode": {
    "name": "ipython",
    "version": 3
   },
   "file_extension": ".py",
   "mimetype": "text/x-python",
   "name": "python",
   "nbconvert_exporter": "python",
   "pygments_lexer": "ipython3",
   "version": "3.7.6"
  }
 },
 "nbformat": 4,
 "nbformat_minor": 4
}
